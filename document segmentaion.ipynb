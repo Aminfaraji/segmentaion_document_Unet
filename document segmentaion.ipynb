{
  "nbformat": 4,
  "nbformat_minor": 0,
  "metadata": {
    "colab": {
      "name": "Copy of Increase RAM Reference Notes By Techhawa .ipynb",
      "provenance": [],
      "collapsed_sections": [],
      "machine_shape": "hm",
      "include_colab_link": true
    },
    "kernelspec": {
      "name": "python3",
      "display_name": "Python 3"
    }
  },
  "cells": [
    {
      "cell_type": "markdown",
      "metadata": {
        "id": "view-in-github",
        "colab_type": "text"
      },
      "source": [
        "<a href=\"https://colab.research.google.com/github/Aminfaraji/segmentaion_document_Unet/blob/main/document%20segmentaion.ipynb\" target=\"_parent\"><img src=\"https://colab.research.google.com/assets/colab-badge.svg\" alt=\"Open In Colab\"/></a>"
      ]
    },
    {
      "cell_type": "code",
      "metadata": {
        "id": "u4WcLJNW5KU1"
      },
      "source": [
        "import numpy as np\n",
        "import glob\n",
        "import nibabel\n",
        "import matplotlib.pyplot as plt\n",
        "from skimage.util import montage\n",
        "import os\n",
        "from keras.preprocessing.image import load_img,img_to_array\n",
        "import keras as K"
      ],
      "execution_count": null,
      "outputs": []
    },
    {
      "cell_type": "code",
      "metadata": {
        "id": "Vi0v4113Dw1Z"
      },
      "source": [
        "# !pip install -q kaggle\n",
        "# !mkdir ~/.kaggle \n",
        "# !cp kaggle.json ~/.kaggle/\n",
        "# !chmod 600 ~/.kaggle/kaggle.json\n",
        "# !kaggle competitions download -c ultrasound-nerve-segmentation"
      ],
      "execution_count": null,
      "outputs": []
    },
    {
      "cell_type": "code",
      "metadata": {
        "id": "8omlQ0zHox8J"
      },
      "source": [
        "# !wget https://archive.ics.uci.edu/ml/machine-learning-databases/00306/dataset_segmentation.rar\n",
        "# !unrar x /content/dataset_segmentation.rar"
      ],
      "execution_count": null,
      "outputs": []
    },
    {
      "cell_type": "code",
      "metadata": {
        "id": "k6qiWdGiozy3"
      },
      "source": [
        "# images=glob.glob(\"/content/dataset_segmentation/*.jpg\")\n",
        "# mask=glob.glob(\"/content/dataset_segmentation/*.png\")\n",
        "# train_image=[]\n",
        "# train_mask=[]\n",
        "# for i in range(len(images)):\n",
        "#   img=load_img(images[i],target_size=(200,200))\n",
        "#   mask_=load_img(images[i][:-4]+\"_m.png\",target_size=(200,200))\n",
        "#   train_image.append(img_to_array(img))\n",
        "#   train_mask.append(img_to_array(mask_))\n",
        "#   print(images[i],\"+++++\",images[i][:-4]+\"_m.png\")\n",
        "# train_image=np.array(train_image)/255\n",
        "# train_mask=np.array(train_mask)/255"
      ],
      "execution_count": null,
      "outputs": []
    },
    {
      "cell_type": "code",
      "metadata": {
        "id": "zvoTKBMj_Ygx"
      },
      "source": [
        "input_=K.Input((256,256,3))\n",
        "conv1=K.layers.Conv2D(32,3,activation='relu',padding='same')(input_)\n",
        "conv1=K.layers.Conv2D(32,3,activation='relu',padding='same')(conv1)\n",
        "pool1=K.layers.MaxPool2D()(conv1)\n",
        "\n",
        "conv2=K.layers.Conv2D(64,3,activation='relu',padding='same')(pool1)\n",
        "conv2=K.layers.Conv2D(64,3,activation='relu',padding='same')(conv2)\n",
        "pool2=K.layers.MaxPool2D()(conv2)\n",
        "\n",
        "conv3=K.layers.Conv2D(128,3,activation='relu',padding='same')(pool2)\n",
        "conv3=K.layers.Conv2D(128,3,activation='relu',padding='same')(conv3)\n",
        "pool3=K.layers.MaxPool2D()(conv3)\n",
        "\n",
        "conv4=K.layers.Conv2D(256,3,activation='relu',padding='same')(pool3)\n",
        "conv4=K.layers.Conv2D(256,3,activation='relu',padding='same')(conv4)\n",
        "pool4=K.layers.MaxPool2D()(conv4)\n",
        "\n",
        "conv5=K.layers.Conv2D(512,3,activation='relu',padding='same')(pool4)\n",
        "conv5=K.layers.Conv2D(512,3,activation='relu',padding='same')(conv5)\n",
        "pool5=K.layers.MaxPool2D()(conv5)\n",
        "\n",
        "u6=K.layers.concatenate([K.layers.Conv2DTranspose(256,(2,2),(2,2),padding=\"same\")(conv5),conv4],axis=3)\n",
        "conv6=K.layers.Conv2D(256,3,activation=\"relu\",padding=\"same\")(u6)\n",
        "conv6=K.layers.Conv2D(256,3,activation=\"relu\",padding=\"same\")(conv6)\n",
        "\n",
        "u7=K.layers.concatenate([K.layers.Conv2DTranspose(128,2,(2,2),padding=\"same\")(conv6),conv3],axis=3)\n",
        "conv7=K.layers.Conv2D(128,3,activation=\"relu\",padding=\"same\")(u7)\n",
        "conv7=K.layers.Conv2D(128,3,activation=\"relu\",padding=\"same\")(conv7)\n",
        "\n",
        "u8=K.layers.concatenate([K.layers.Conv2DTranspose(64,2,(2,2),padding=\"same\")(conv7),conv2],axis=3)\n",
        "conv8=K.layers.Conv2D(64,3,activation=\"relu\",padding=\"same\")(u8)\n",
        "conv8=K.layers.Conv2D(64,3,activation=\"relu\",padding=\"same\")(conv8)\n",
        "\n",
        "\n",
        "u9=K.layers.concatenate([K.layers.Conv2DTranspose(32,2,(2,2),padding=\"same\")(conv8),conv1],axis=3)\n",
        "conv9=K.layers.Conv2D(32,3,activation=\"relu\",padding=\"same\")(u9)\n",
        "conv9=K.layers.Conv2D(32,3,activation=\"relu\",padding=\"same\")(conv9)\n",
        "\n",
        "conv10=K.layers.Conv2D(3,3,activation=\"softmax\",padding=\"same\")(conv9)\n",
        "\n",
        "model=K.Model([input_],[conv10])\n"
      ],
      "execution_count": null,
      "outputs": []
    },
    {
      "cell_type": "code",
      "metadata": {
        "id": "SQfJFbaSG--E",
        "colab": {
          "base_uri": "https://localhost:8080/"
        },
        "outputId": "acf05049-1c9c-49cf-da80-f42b4d411799"
      },
      "source": [
        "model.summary()"
      ],
      "execution_count": null,
      "outputs": [
        {
          "output_type": "stream",
          "text": [
            "Model: \"model_1\"\n",
            "__________________________________________________________________________________________________\n",
            "Layer (type)                    Output Shape         Param #     Connected to                     \n",
            "==================================================================================================\n",
            "input_7 (InputLayer)            [(None, 256, 256, 3) 0                                            \n",
            "__________________________________________________________________________________________________\n",
            "conv2d_78 (Conv2D)              (None, 256, 256, 32) 896         input_7[0][0]                    \n",
            "__________________________________________________________________________________________________\n",
            "conv2d_79 (Conv2D)              (None, 256, 256, 32) 9248        conv2d_78[0][0]                  \n",
            "__________________________________________________________________________________________________\n",
            "max_pooling2d_30 (MaxPooling2D) (None, 128, 128, 32) 0           conv2d_79[0][0]                  \n",
            "__________________________________________________________________________________________________\n",
            "conv2d_80 (Conv2D)              (None, 128, 128, 64) 18496       max_pooling2d_30[0][0]           \n",
            "__________________________________________________________________________________________________\n",
            "conv2d_81 (Conv2D)              (None, 128, 128, 64) 36928       conv2d_80[0][0]                  \n",
            "__________________________________________________________________________________________________\n",
            "max_pooling2d_31 (MaxPooling2D) (None, 64, 64, 64)   0           conv2d_81[0][0]                  \n",
            "__________________________________________________________________________________________________\n",
            "conv2d_82 (Conv2D)              (None, 64, 64, 128)  73856       max_pooling2d_31[0][0]           \n",
            "__________________________________________________________________________________________________\n",
            "conv2d_83 (Conv2D)              (None, 64, 64, 128)  147584      conv2d_82[0][0]                  \n",
            "__________________________________________________________________________________________________\n",
            "max_pooling2d_32 (MaxPooling2D) (None, 32, 32, 128)  0           conv2d_83[0][0]                  \n",
            "__________________________________________________________________________________________________\n",
            "conv2d_84 (Conv2D)              (None, 32, 32, 256)  295168      max_pooling2d_32[0][0]           \n",
            "__________________________________________________________________________________________________\n",
            "conv2d_85 (Conv2D)              (None, 32, 32, 256)  590080      conv2d_84[0][0]                  \n",
            "__________________________________________________________________________________________________\n",
            "max_pooling2d_33 (MaxPooling2D) (None, 16, 16, 256)  0           conv2d_85[0][0]                  \n",
            "__________________________________________________________________________________________________\n",
            "conv2d_86 (Conv2D)              (None, 16, 16, 512)  1180160     max_pooling2d_33[0][0]           \n",
            "__________________________________________________________________________________________________\n",
            "conv2d_87 (Conv2D)              (None, 16, 16, 512)  2359808     conv2d_86[0][0]                  \n",
            "__________________________________________________________________________________________________\n",
            "conv2d_transpose_13 (Conv2DTran (None, 32, 32, 256)  524544      conv2d_87[0][0]                  \n",
            "__________________________________________________________________________________________________\n",
            "concatenate_12 (Concatenate)    (None, 32, 32, 512)  0           conv2d_transpose_13[0][0]        \n",
            "                                                                 conv2d_85[0][0]                  \n",
            "__________________________________________________________________________________________________\n",
            "conv2d_88 (Conv2D)              (None, 32, 32, 256)  1179904     concatenate_12[0][0]             \n",
            "__________________________________________________________________________________________________\n",
            "conv2d_89 (Conv2D)              (None, 32, 32, 256)  590080      conv2d_88[0][0]                  \n",
            "__________________________________________________________________________________________________\n",
            "conv2d_transpose_14 (Conv2DTran (None, 64, 64, 128)  131200      conv2d_89[0][0]                  \n",
            "__________________________________________________________________________________________________\n",
            "concatenate_13 (Concatenate)    (None, 64, 64, 256)  0           conv2d_transpose_14[0][0]        \n",
            "                                                                 conv2d_83[0][0]                  \n",
            "__________________________________________________________________________________________________\n",
            "conv2d_90 (Conv2D)              (None, 64, 64, 128)  295040      concatenate_13[0][0]             \n",
            "__________________________________________________________________________________________________\n",
            "conv2d_91 (Conv2D)              (None, 64, 64, 128)  147584      conv2d_90[0][0]                  \n",
            "__________________________________________________________________________________________________\n",
            "conv2d_transpose_15 (Conv2DTran (None, 128, 128, 64) 32832       conv2d_91[0][0]                  \n",
            "__________________________________________________________________________________________________\n",
            "concatenate_14 (Concatenate)    (None, 128, 128, 128 0           conv2d_transpose_15[0][0]        \n",
            "                                                                 conv2d_81[0][0]                  \n",
            "__________________________________________________________________________________________________\n",
            "conv2d_92 (Conv2D)              (None, 128, 128, 64) 73792       concatenate_14[0][0]             \n",
            "__________________________________________________________________________________________________\n",
            "conv2d_93 (Conv2D)              (None, 128, 128, 64) 36928       conv2d_92[0][0]                  \n",
            "__________________________________________________________________________________________________\n",
            "conv2d_transpose_16 (Conv2DTran (None, 256, 256, 32) 8224        conv2d_93[0][0]                  \n",
            "__________________________________________________________________________________________________\n",
            "concatenate_15 (Concatenate)    (None, 256, 256, 64) 0           conv2d_transpose_16[0][0]        \n",
            "                                                                 conv2d_79[0][0]                  \n",
            "__________________________________________________________________________________________________\n",
            "conv2d_94 (Conv2D)              (None, 256, 256, 32) 18464       concatenate_15[0][0]             \n",
            "__________________________________________________________________________________________________\n",
            "conv2d_95 (Conv2D)              (None, 256, 256, 32) 9248        conv2d_94[0][0]                  \n",
            "__________________________________________________________________________________________________\n",
            "conv2d_96 (Conv2D)              (None, 256, 256, 3)  867         conv2d_95[0][0]                  \n",
            "==================================================================================================\n",
            "Total params: 7,760,931\n",
            "Trainable params: 7,760,931\n",
            "Non-trainable params: 0\n",
            "__________________________________________________________________________________________________\n"
          ],
          "name": "stdout"
        }
      ]
    },
    {
      "cell_type": "code",
      "metadata": {
        "id": "O7VNKUGVIX6j"
      },
      "source": [
        "model.compile('rmsprop',loss='sparse_categorical_crossentropy')"
      ],
      "execution_count": null,
      "outputs": []
    }
  ]
}